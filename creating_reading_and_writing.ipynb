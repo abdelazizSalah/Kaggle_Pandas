{
 "cells": [
  {
   "cell_type": "markdown",
   "metadata": {},
   "source": [
    "# Pandas\n",
    "* Pandas in the most popular python library for data analysis. \n",
    "* To use it we just import its library\n",
    "* Usually we call it pd as an acrynom"
   ]
  },
  {
   "cell_type": "code",
   "execution_count": 2,
   "metadata": {},
   "outputs": [],
   "source": [
    "import pandas as pd"
   ]
  },
  {
   "cell_type": "markdown",
   "metadata": {},
   "source": [
    "* There are two core objects in pandas\n",
    "    1. DataFrame\n",
    "    2. Series."
   ]
  },
  {
   "cell_type": "markdown",
   "metadata": {},
   "source": [
    "\n",
    "# 1. Data Frame\n",
    "* Data frame is a table.\n",
    "* It contain of multiple columns and multiple rows. \n",
    "* each row is called a **record**.\n",
    "* each record contains many **entries**\n",
    "* entries can take any datatype \n",
    "  * int, strings, doubles, bool, etc...\n",
    "* To generate a new data frame we use \n",
    "  * pd.Dataframe() constructor.\n",
    "  * we use dictionaries inside the constructor to initialize the data.\n",
    "  * the keys, are the table columns' names\n",
    "  * while the values, are the elements inside each entry. \n",
    "  * This is the standard way of constructing a new data frame. \n",
    "  * By default, the constructor will give the rows, numerical values, starting from 0 till n - 1.\n",
    "  * sometimes, this works well, but other times, we may need to name each row, so to be able to do so, we use the parameter index.\n",
    "  * The index items, should be = to the number of rows.\n",
    "  * They can have different data types, and they can be the same element, but for best practice, they should be unique, of the same data types, and they should be representative.\n",
    "  "
   ]
  },
  {
   "cell_type": "code",
   "execution_count": 7,
   "metadata": {},
   "outputs": [
    {
     "data": {
      "text/html": [
       "<div>\n",
       "<style scoped>\n",
       "    .dataframe tbody tr th:only-of-type {\n",
       "        vertical-align: middle;\n",
       "    }\n",
       "\n",
       "    .dataframe tbody tr th {\n",
       "        vertical-align: top;\n",
       "    }\n",
       "\n",
       "    .dataframe thead th {\n",
       "        text-align: right;\n",
       "    }\n",
       "</style>\n",
       "<table border=\"1\" class=\"dataframe\">\n",
       "  <thead>\n",
       "    <tr style=\"text-align: right;\">\n",
       "      <th></th>\n",
       "      <th>Yes</th>\n",
       "      <th>No</th>\n",
       "    </tr>\n",
       "  </thead>\n",
       "  <tbody>\n",
       "    <tr>\n",
       "      <th>Women</th>\n",
       "      <td>50</td>\n",
       "      <td>131</td>\n",
       "    </tr>\n",
       "    <tr>\n",
       "      <th>1</th>\n",
       "      <td>21</td>\n",
       "      <td>2</td>\n",
       "    </tr>\n",
       "  </tbody>\n",
       "</table>\n",
       "</div>"
      ],
      "text/plain": [
       "       Yes   No\n",
       "Women   50  131\n",
       "1       21    2"
      ]
     },
     "execution_count": 7,
     "metadata": {},
     "output_type": "execute_result"
    }
   ],
   "source": [
    "pd.DataFrame({'Yes' : [50,21], 'No' : [131, 2]}, index = ['Women', 1])\n"
   ]
  },
  {
   "cell_type": "markdown",
   "metadata": {},
   "source": [
    "# 2. Series\n",
    "* Series is a sequence of data values.\n",
    "* You can think of it as a single column in the dataframe.\n",
    "* it is just a list of items. \n",
    "* as before, we can assign the names of the rows, using the index parameter.\n",
    "* it may consist of different element of different datatypes.\n",
    "* each series has a name, which is the column name in the dataframe.\n",
    "* so if we combined many series, we can generate a dataframe.\n",
    "* or you can think of it, as data frame is just a bunch of series combined together.\n"
   ]
  },
  {
   "cell_type": "code",
   "execution_count": 13,
   "metadata": {},
   "outputs": [
    {
     "data": {
      "text/plain": [
       "ahmed        1\n",
       "mohammed     4\n",
       "mostafa     10\n",
       "Name: Goals of each player, dtype: int64"
      ]
     },
     "execution_count": 13,
     "metadata": {},
     "output_type": "execute_result"
    }
   ],
   "source": [
    "pd.Series([1,4,10], index= ['ahmed', 'mohammed','mostafa'], name = 'Goals of each player')"
   ]
  },
  {
   "cell_type": "markdown",
   "metadata": {},
   "source": [
    "# Reading data files.\n",
    "* usually we do not create dataframes from scratch.\n",
    "* most of the time, we will work with data already exists.\n",
    "* and when we load it, we will store it into a dataframe object. \n",
    "* There are a lot of types for the data files, but the most common ones are:\n",
    "    1. csv -> comma separated values\n",
    "    2. json -> java script object notation\n",
    "    3. excel -> excel files\n",
    "    4. sql -> sql database\n",
    "* Usually we will dealt with the CSV files.\n",
    "* when you open a csv file, you will see something like this:\n",
    "  * ProductA, ProductB, ProductC,\n",
    "  * 10, 20, 30,\n",
    "  * 40, 50, 60,\n",
    "  * 70, 80, 90,\n",
    "* The first row, is the header, which contains the column names.\n",
    "* the rest of the rows, are the data."
   ]
  },
  {
   "cell_type": "code",
   "execution_count": 14,
   "metadata": {},
   "outputs": [
    {
     "data": {
      "text/html": [
       "<div>\n",
       "<style scoped>\n",
       "    .dataframe tbody tr th:only-of-type {\n",
       "        vertical-align: middle;\n",
       "    }\n",
       "\n",
       "    .dataframe tbody tr th {\n",
       "        vertical-align: top;\n",
       "    }\n",
       "\n",
       "    .dataframe thead th {\n",
       "        text-align: right;\n",
       "    }\n",
       "</style>\n",
       "<table border=\"1\" class=\"dataframe\">\n",
       "  <thead>\n",
       "    <tr style=\"text-align: right;\">\n",
       "      <th></th>\n",
       "      <th>ProductA</th>\n",
       "      <th>ProductB</th>\n",
       "      <th>ProductC</th>\n",
       "      <th>Unnamed: 3</th>\n",
       "    </tr>\n",
       "  </thead>\n",
       "  <tbody>\n",
       "    <tr>\n",
       "      <th>0</th>\n",
       "      <td>10</td>\n",
       "      <td>20</td>\n",
       "      <td>30</td>\n",
       "      <td>NaN</td>\n",
       "    </tr>\n",
       "    <tr>\n",
       "      <th>1</th>\n",
       "      <td>40</td>\n",
       "      <td>50</td>\n",
       "      <td>60</td>\n",
       "      <td>NaN</td>\n",
       "    </tr>\n",
       "    <tr>\n",
       "      <th>2</th>\n",
       "      <td>70</td>\n",
       "      <td>80</td>\n",
       "      <td>90</td>\n",
       "      <td>NaN</td>\n",
       "    </tr>\n",
       "  </tbody>\n",
       "</table>\n",
       "</div>"
      ],
      "text/plain": [
       "   ProductA   ProductB   ProductC  Unnamed: 3\n",
       "0        10         20         30         NaN\n",
       "1        40         50         60         NaN\n",
       "2        70         80         90         NaN"
      ]
     },
     "execution_count": 14,
     "metadata": {},
     "output_type": "execute_result"
    }
   ],
   "source": [
    "first_dummy_data = pd.read_csv('trial_csv_file.csv')\n",
    "first_dummy_data.head()"
   ]
  },
  {
   "cell_type": "markdown",
   "metadata": {},
   "source": [
    "# Basic functions\n",
    "* df.head() -> returns the first 5 rows of the dataframe\n",
    "* df.tail() -> returns the last 5 rows of the dataframe\n",
    "* df.shape -> returns the number of rows and columns in the dataframe\n",
    "* df.info() -> returns the data types of each column, and the number of non-null values in each column\n",
    "* df.describe() -> returns the statistical summary of each numerical column\n",
    "* df.column_name -> returns the column with the name column_name\n",
    "* df[['column_name1', 'column_name2']] -> returns a dataframe with the two columns\n",
    "* df.column_name.mean() -> returns the mean of the column\n",
    "* df.column_name.std() -> returns the standard deviation of the column\n",
    "* df.column_name.max() -> returns the maximum value of the column\n",
    "* df.column_name.min() -> returns the minimum value of the column\n",
    "* df.column_name.count() -> returns the number of non-null values in the column\n",
    "* df.column_name.unique() -> returns the unique values in the column\n",
    "* df.column_name.value_counts() -> returns the number of each unique value in the column\n",
    "* df.column_name.idxmax() -> returns the index of the maximum value in the column\n",
    "* df.column_name.idxmin() -> returns the index of the minimum value in the column\n",
    "* df.column_name.sort_values() -> returns the column sorted in ascending order\n",
    "* df.column_name.sort_values(ascending = False) -> returns the column sorted in descending order\n",
    "* df.column_name.sort_values(ascending = False, inplace = True) -> returns the column sorted in descending order, and update the dataframe\n",
    "* df.column_name.sort_index() -> returns the column sorted by the index\n",
    "* df.column_name.sort_index(ascending = False) -> returns the column sorted by the index in descending order\n",
    "* df.column_name.sort_index(ascending = False, inplace = True) -> returns the column sorted by the index in descending order, and update the dataframe\n",
    "* df.column_name.plot(kind = 'hist') -> returns a histogram of the column\n",
    "* df.column_name.plot(kind = 'box') -> returns a box plot of the column\n",
    "* df.column_name.plot(kind = 'bar') -> returns a bar plot of the column\n",
    "* df.column_name.plot(kind = 'pie') -> returns a pie plot of the column\n",
    "* df.column_name.plot(kind = 'line') -> returns a line plot of the column\n",
    "* df.column_name.plot(kind = 'area') -> returns an area plot of the column\n",
    "* df.column_name.plot(kind = 'scatter') -> returns a scatter plot of the column\n",
    "* df.column_name.plot(kind = 'density') -> returns a density plot of the column\n",
    "* df.column_name.plot(kind = 'kde') -> returns a kde plot of the column\n",
    "* df.column_name.plot(kind = 'hexbin') -> returns a hexbin plot of the column\n",
    "* df.column_name.plot(kind = 'hist', bins = 10) -> returns a histogram of the column with 10 bins\n",
    "* df.column_name.plot(kind = 'hist', bins = [1, 2, 3, 4, 5]) -> returns a histogram of the column with the specified bins\n",
    "* df.column_name.plot(kind = 'hist', bins = 10, range = (0, 100)) -> returns a histogram of the column with 10 bins, and the range from 0 to 100\n",
    "* df.column_name.plot(kind = 'hist', bins = 10, range = (0, 100), cumulative = True) -> returns a histogram of the column with 10 bins, and the range from 0 to 100, and the cumulative sum\n",
    "* df.column_name.plot(kind = 'hist', bins = 10, range = (0, 100), cumulative = True, normed = True) -> returns a histogram of the column with 10 bins, and the range from 0 to 100, and the cumulative sum, and the normalized values\n",
    "* df.column_name.plot(kind = 'hist', bins = 10, range = (0, 100), cumulative = True, normed = True, orientation = 'horizontal') -> returns a histogram of the column with 10 bins, and the range from 0 to 100, and the cumulative sum, and the normalized values, and the orientation is horizontal\n",
    "* df.column_name.plot(kind = 'hist', bins = 10, range = (0, 100), cumulative = True, normed = True, orientation = 'horizontal', color = 'red') -> returns a histogram of the column with 10 bins, and the range from 0 to 100, and the cumulative sum, and the normalized values, and the orientation is horizontal, and the color is red\n",
    "* df.column_name.plot(kind = 'hist', bins = 10, range = (0, 100), cumulative = True, normed = True, orientation = 'horizontal', color = 'red', alpha = 0.5) -> returns a histogram of the column with 10 bins, and the range from 0 to 100, and the cumulative sum, and the normalized values, and the orientation is horizontal, and the color is red, and the alpha is 0.5"
   ]
  },
  {
   "cell_type": "markdown",
   "metadata": {},
   "source": [
    "# pd.read_csv() basic parameters\n",
    "* pd.read_csv('file_name.csv') -> returns a dataframe from the csv file\n",
    "* pd.read_csv('file_name.csv', header = None) -> returns a dataframe from the csv file, and the header is None\n",
    "* pd.read_csv('file_name.csv', header = None, names = ['column_name1', 'column_name2']) -> returns a dataframe from the csv file, and the header is None, and the column names are the specified names\n",
    "* pd.read_csv('file_name.csv', header = None, names = ['column_name1', 'column_name2'], index_col = 0) -> returns a dataframe from the csv file, and the header is None, and the column names are the specified names, and the index is the first column\n",
    "* the index is the first column, so the first column will be removed from the dataframe, and will be used as the indcies."
   ]
  },
  {
   "cell_type": "code",
   "execution_count": 17,
   "metadata": {},
   "outputs": [
    {
     "data": {
      "text/html": [
       "<div>\n",
       "<style scoped>\n",
       "    .dataframe tbody tr th:only-of-type {\n",
       "        vertical-align: middle;\n",
       "    }\n",
       "\n",
       "    .dataframe tbody tr th {\n",
       "        vertical-align: top;\n",
       "    }\n",
       "\n",
       "    .dataframe thead th {\n",
       "        text-align: right;\n",
       "    }\n",
       "</style>\n",
       "<table border=\"1\" class=\"dataframe\">\n",
       "  <thead>\n",
       "    <tr style=\"text-align: right;\">\n",
       "      <th></th>\n",
       "      <th>ProductB</th>\n",
       "      <th>ProductC</th>\n",
       "      <th>Unnamed: 3</th>\n",
       "    </tr>\n",
       "    <tr>\n",
       "      <th>indicies</th>\n",
       "      <th></th>\n",
       "      <th></th>\n",
       "      <th></th>\n",
       "    </tr>\n",
       "  </thead>\n",
       "  <tbody>\n",
       "    <tr>\n",
       "      <th>0</th>\n",
       "      <td>20</td>\n",
       "      <td>30</td>\n",
       "      <td>NaN</td>\n",
       "    </tr>\n",
       "    <tr>\n",
       "      <th>1</th>\n",
       "      <td>50</td>\n",
       "      <td>60</td>\n",
       "      <td>NaN</td>\n",
       "    </tr>\n",
       "    <tr>\n",
       "      <th>2</th>\n",
       "      <td>80</td>\n",
       "      <td>90</td>\n",
       "      <td>NaN</td>\n",
       "    </tr>\n",
       "  </tbody>\n",
       "</table>\n",
       "</div>"
      ],
      "text/plain": [
       "           ProductB   ProductC  Unnamed: 3\n",
       "indicies                                  \n",
       "0                20         30         NaN\n",
       "1                50         60         NaN\n",
       "2                80         90         NaN"
      ]
     },
     "execution_count": 17,
     "metadata": {},
     "output_type": "execute_result"
    }
   ],
   "source": [
    "data_frame_with_idx_Equal_zero = pd.read_csv('trial_csv_file.csv', index_col=0)\n",
    "data_frame_with_idx_Equal_zero"
   ]
  },
  {
   "cell_type": "markdown",
   "metadata": {},
   "source": [
    "# Saving The Dataframe to a file on your disk\n",
    "* to do so we use a built in function called **to_csv** and just send to it the path of the file + the file name +.csv\n",
    "* if it was already exist it will overwrite it. \n",
    "* to append on a existing file, we use the parameter mode = 'a'\n",
    "* there are other modes, such as:\n",
    "  * mode = 'w' -> write mode\n",
    "  * mode = 'r' -> read mode\n",
    "  * mode = 'x' -> create mode\n",
    "  * mode = 'a' -> append mode\n",
    "  * mode = 'r+' -> read and write mode\n",
    "  * mode = 'w+' -> write and read mode\n",
    "  * mode = 'a+' -> append and read mode\n",
    "\n"
   ]
  },
  {
   "cell_type": "code",
   "execution_count": 24,
   "metadata": {},
   "outputs": [],
   "source": [
    "# save the data frame to the disk\n",
    "data_frame_with_idx_Equal_zero.to_csv('new_csv_file.csv',mode='a')"
   ]
  },
  {
   "cell_type": "code",
   "execution_count": null,
   "metadata": {},
   "outputs": [],
   "source": []
  }
 ],
 "metadata": {
  "kernelspec": {
   "display_name": "Python 3",
   "language": "python",
   "name": "python3"
  },
  "language_info": {
   "codemirror_mode": {
    "name": "ipython",
    "version": 3
   },
   "file_extension": ".py",
   "mimetype": "text/x-python",
   "name": "python",
   "nbconvert_exporter": "python",
   "pygments_lexer": "ipython3",
   "version": "3.9.13"
  },
  "orig_nbformat": 4
 },
 "nbformat": 4,
 "nbformat_minor": 2
}
